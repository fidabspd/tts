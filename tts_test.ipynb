{
 "cells": [
  {
   "cell_type": "code",
   "execution_count": 1,
   "id": "5460ffbd",
   "metadata": {},
   "outputs": [],
   "source": [
    "from text_to_speech import *"
   ]
  },
  {
   "cell_type": "code",
   "execution_count": 2,
   "id": "307661c7",
   "metadata": {},
   "outputs": [],
   "source": [
    "device = 'cuda' if torch.cuda.is_available() else 'cpu'"
   ]
  },
  {
   "cell_type": "code",
   "execution_count": 3,
   "id": "99531efb",
   "metadata": {},
   "outputs": [],
   "source": [
    "MODEL_FILE_PATH = './model/single_speaker_tts.pt'\n",
    "\n",
    "text_to_speech = TextToSpeech(torch.load(MODEL_FILE_PATH), device)"
   ]
  },
  {
   "cell_type": "code",
   "execution_count": 4,
   "id": "3a171b2a",
   "metadata": {},
   "outputs": [
    {
     "name": "stdout",
     "output_type": "stream",
     "text": [
      "Saved tts result!\n",
      "path: ./audio_sample/tts_sample.wav\n"
     ]
    }
   ],
   "source": [
    "mel_pred, attention = text_to_speech.tts('다람쥐와 호랑이')\n",
    "\n",
    "text_to_speech.save_tts_result('./audio_sample/tts_sample.wav')"
   ]
  },
  {
   "cell_type": "code",
   "execution_count": 5,
   "id": "d580f7f5",
   "metadata": {},
   "outputs": [],
   "source": [
    "# text_to_speech.plot_attention_weights()"
   ]
  },
  {
   "cell_type": "code",
   "execution_count": null,
   "id": "308ac553",
   "metadata": {},
   "outputs": [],
   "source": []
  },
  {
   "cell_type": "code",
   "execution_count": null,
   "id": "fdf28b7a",
   "metadata": {},
   "outputs": [],
   "source": []
  },
  {
   "cell_type": "code",
   "execution_count": null,
   "id": "35f060b8",
   "metadata": {},
   "outputs": [],
   "source": []
  },
  {
   "cell_type": "code",
   "execution_count": null,
   "id": "69c8e70f",
   "metadata": {},
   "outputs": [],
   "source": []
  },
  {
   "cell_type": "code",
   "execution_count": null,
   "id": "6c338a28",
   "metadata": {},
   "outputs": [],
   "source": []
  },
  {
   "cell_type": "code",
   "execution_count": 6,
   "id": "406c58a0",
   "metadata": {},
   "outputs": [],
   "source": [
    "import configs as cf\n",
    "from preprocess import *\n",
    "from train_tts import *"
   ]
  },
  {
   "cell_type": "code",
   "execution_count": 7,
   "id": "fb79bade",
   "metadata": {},
   "outputs": [
    {
     "name": "stdout",
     "output_type": "stream",
     "text": [
      "Loading ['여1_소설1', '여1_자기계발2', '여1_동화1', '여1_자기계발1'] ...\n",
      "소설1 Done!\n",
      "자기계발2 Done!\n",
      "동화1 Done!\n",
      "자기계발1 Done!\n"
     ]
    }
   ],
   "source": [
    "# Set Dataset\n",
    "full_ds = get_single_speaker_dataset(\n",
    "    cf.SPEAKER, cf.WAV_PATH, cf.SCRIPT_FILE_NAME,\n",
    "    cf.SR, cf.N_MELS, cf.N_FFT, cf.HOP_LENGTH, cf.WIN_LENGTH\n",
    ")\n",
    "\n",
    "# Split train, valid\n",
    "data_length = len(full_ds)\n",
    "train_ds_len = int(data_length*cf.TRAINSET_RATIO)\n",
    "valid_ds_len = data_length - train_ds_len\n",
    "train_ds, valid_ds = random_split(full_ds, [train_ds_len, valid_ds_len])\n",
    "\n",
    "# Set DataLoader\n",
    "train_dl = get_dl_by_ds(train_ds, cf.BATCH_SIZE, cf.DL_NUM_WORKERS, shuffle=True)\n",
    "valid_dl = get_dl_by_ds(valid_ds, cf.BATCH_SIZE, cf.DL_NUM_WORKERS, shuffle=False)"
   ]
  },
  {
   "cell_type": "code",
   "execution_count": 8,
   "id": "a32f0748",
   "metadata": {},
   "outputs": [],
   "source": [
    "batch = iter(train_dl).next()"
   ]
  },
  {
   "cell_type": "code",
   "execution_count": 9,
   "id": "c8261abf",
   "metadata": {},
   "outputs": [],
   "source": [
    "model = torch.load(MODEL_FILE_PATH).to(device)"
   ]
  },
  {
   "cell_type": "code",
   "execution_count": 10,
   "id": "c3707c8d",
   "metadata": {},
   "outputs": [],
   "source": [
    "tensor_dict_to_device(batch, device)\n",
    "text_tokens, mel = batch['text_tokens'], batch['mel']\n",
    "now_batch_len = len(mel)\n",
    "mel_pred, _, _ = model(text_tokens, mel[:,:-1])\n",
    "mel_pred_batch = mel_pred.cpu().detach().numpy()"
   ]
  },
  {
   "cell_type": "code",
   "execution_count": 11,
   "id": "bd5fe215",
   "metadata": {},
   "outputs": [],
   "source": [
    "def save_tts_result(mel_pred, save_file_path):\n",
    "    inversed = librosa.feature.inverse.mel_to_audio(\n",
    "        mel_pred.T, sr=cf.SR, hop_length=cf.HOP_LENGTH, win_length=cf.WIN_LENGTH)\n",
    "\n",
    "    sf.write(save_file_path, inversed, cf.SR)\n",
    "    print(f'Saved tts result!\\npath: {save_file_path}')"
   ]
  },
  {
   "cell_type": "code",
   "execution_count": 12,
   "id": "e41c1ebb",
   "metadata": {},
   "outputs": [],
   "source": [
    "mel_pred = mel_pred_batch[5]"
   ]
  },
  {
   "cell_type": "code",
   "execution_count": 13,
   "id": "a9c01ca8",
   "metadata": {},
   "outputs": [
    {
     "name": "stdout",
     "output_type": "stream",
     "text": [
      "Saved tts result!\n",
      "path: ./audio_sample/tts_sample_by_dl.wav\n"
     ]
    }
   ],
   "source": [
    "save_tts_result(mel_pred, './audio_sample/tts_sample_by_dl.wav')"
   ]
  },
  {
   "cell_type": "code",
   "execution_count": null,
   "id": "95ab16dc",
   "metadata": {},
   "outputs": [],
   "source": []
  }
 ],
 "metadata": {
  "kernelspec": {
   "display_name": "Python 3 (ipykernel)",
   "language": "python",
   "name": "python3"
  },
  "language_info": {
   "codemirror_mode": {
    "name": "ipython",
    "version": 3
   },
   "file_extension": ".py",
   "mimetype": "text/x-python",
   "name": "python",
   "nbconvert_exporter": "python",
   "pygments_lexer": "ipython3",
   "version": "3.7.11"
  }
 },
 "nbformat": 4,
 "nbformat_minor": 5
}
